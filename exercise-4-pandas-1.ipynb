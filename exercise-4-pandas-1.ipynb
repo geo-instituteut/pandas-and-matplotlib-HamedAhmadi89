{
 "cells": [
  {
   "cell_type": "markdown",
   "id": "3ccac34a",
   "metadata": {},
   "source": [
    "## Problem 1 - Basic statistics of the data (2 points)\n",
    "\n",
    "In this problem your task is to open and explore an NOAA weather data file using pandas. The data file name is `6153237444115dat.csv` and it is located in the `data` folder in this repository. \n",
    "\n",
    "### Tips for completing this problem\n",
    "\n",
    "- Use **exactly** the same variable names as in the instructions because your answers will be automatically graded, and the tests that grade your answers rely on following the same formatting or variable naming as in the instructions.\n",
    "- **Please do not**:\n",
    "\n",
    "\n",
    "**Your score on this problem will be based on following criteria:**\n",
    "\n",
    "- Importing the pandas module\n",
    "- Reading the data using pandas into a variable called `data`\n",
    "- Calculating a number of values from the data file used in this problem\n",
    "- Including comments that explain what most lines in the code do\n",
    "- Answering a couple questions at the end of the problem\n",
    "- Uploading your notebook to your GitHub repository for this week's exercise"
   ]
  },
  {
   "cell_type": "markdown",
   "id": "abec3d4d",
   "metadata": {},
   "source": [
    "### Part 1 \n",
    "\n",
    "Your first task is to import pandas and read in the data file.\n",
    "\n",
    "- Import the pandas module\n",
    "- Read the data into a variable called `data` using pandas \n",
    "\n",
    "**Hint**: When reading the data, you need to consider a couple of things:\n",
    "\n",
    "- The input file is located in the `data` folder, and you need to include this in the filepath when reading the file to pandas\n",
    "- No-data values are specified with varying number of `*` characters in the input file. You can tell this to pandas by specifying the following parameter in the pandas `read_csv()` function: `na_values=['*', '**', '***', '****', '*****', '******']`     "
   ]
  },
  {
   "cell_type": "code",
   "execution_count": 1,
   "id": "72850558",
   "metadata": {},
   "outputs": [],
   "source": [
    "# Pandas imported as pd\n",
    "import pandas as pd\n",
    "\n",
    "# Reading data and replacing *s with NaN\n",
    "data = pd.read_csv(\"data/6153237444115dat.csv\", na_values = [\"*\", \"**\", \"***\", \"****\", \"*****\", \"******\"])\n",
    "\n",
    "# YOUR CODE HERE"
   ]
  },
  {
   "cell_type": "code",
   "execution_count": 2,
   "id": "9b1d5c37",
   "metadata": {},
   "outputs": [
    {
     "data": {
      "text/html": [
       "<div>\n",
       "<style scoped>\n",
       "    .dataframe tbody tr th:only-of-type {\n",
       "        vertical-align: middle;\n",
       "    }\n",
       "\n",
       "    .dataframe tbody tr th {\n",
       "        vertical-align: top;\n",
       "    }\n",
       "\n",
       "    .dataframe thead th {\n",
       "        text-align: right;\n",
       "    }\n",
       "</style>\n",
       "<table border=\"1\" class=\"dataframe\">\n",
       "  <thead>\n",
       "    <tr style=\"text-align: right;\">\n",
       "      <th></th>\n",
       "      <th>USAF</th>\n",
       "      <th>WBAN</th>\n",
       "      <th>YR--MODAHRMN</th>\n",
       "      <th>DIR</th>\n",
       "      <th>SPD</th>\n",
       "      <th>GUS</th>\n",
       "      <th>CLG</th>\n",
       "      <th>SKC</th>\n",
       "      <th>L</th>\n",
       "      <th>M</th>\n",
       "      <th>...</th>\n",
       "      <th>SLP</th>\n",
       "      <th>ALT</th>\n",
       "      <th>STP</th>\n",
       "      <th>MAX</th>\n",
       "      <th>MIN</th>\n",
       "      <th>PCP01</th>\n",
       "      <th>PCP06</th>\n",
       "      <th>PCP24</th>\n",
       "      <th>PCPXX</th>\n",
       "      <th>SD</th>\n",
       "    </tr>\n",
       "  </thead>\n",
       "  <tbody>\n",
       "    <tr>\n",
       "      <th>0</th>\n",
       "      <td>28450</td>\n",
       "      <td>99999</td>\n",
       "      <td>201705010000</td>\n",
       "      <td>174.0</td>\n",
       "      <td>10.0</td>\n",
       "      <td>14.0</td>\n",
       "      <td>NaN</td>\n",
       "      <td>NaN</td>\n",
       "      <td>NaN</td>\n",
       "      <td>NaN</td>\n",
       "      <td>...</td>\n",
       "      <td>1009.2</td>\n",
       "      <td>NaN</td>\n",
       "      <td>984.1</td>\n",
       "      <td>NaN</td>\n",
       "      <td>NaN</td>\n",
       "      <td>NaN</td>\n",
       "      <td>NaN</td>\n",
       "      <td>NaN</td>\n",
       "      <td>NaN</td>\n",
       "      <td>35.0</td>\n",
       "    </tr>\n",
       "    <tr>\n",
       "      <th>1</th>\n",
       "      <td>28450</td>\n",
       "      <td>99999</td>\n",
       "      <td>201705010020</td>\n",
       "      <td>180.0</td>\n",
       "      <td>10.0</td>\n",
       "      <td>NaN</td>\n",
       "      <td>4.0</td>\n",
       "      <td>NaN</td>\n",
       "      <td>NaN</td>\n",
       "      <td>NaN</td>\n",
       "      <td>...</td>\n",
       "      <td>NaN</td>\n",
       "      <td>29.74</td>\n",
       "      <td>NaN</td>\n",
       "      <td>NaN</td>\n",
       "      <td>NaN</td>\n",
       "      <td>NaN</td>\n",
       "      <td>NaN</td>\n",
       "      <td>NaN</td>\n",
       "      <td>NaN</td>\n",
       "      <td>NaN</td>\n",
       "    </tr>\n",
       "    <tr>\n",
       "      <th>2</th>\n",
       "      <td>28450</td>\n",
       "      <td>99999</td>\n",
       "      <td>201705010050</td>\n",
       "      <td>190.0</td>\n",
       "      <td>10.0</td>\n",
       "      <td>NaN</td>\n",
       "      <td>4.0</td>\n",
       "      <td>NaN</td>\n",
       "      <td>NaN</td>\n",
       "      <td>NaN</td>\n",
       "      <td>...</td>\n",
       "      <td>NaN</td>\n",
       "      <td>29.74</td>\n",
       "      <td>NaN</td>\n",
       "      <td>NaN</td>\n",
       "      <td>NaN</td>\n",
       "      <td>NaN</td>\n",
       "      <td>NaN</td>\n",
       "      <td>NaN</td>\n",
       "      <td>NaN</td>\n",
       "      <td>NaN</td>\n",
       "    </tr>\n",
       "    <tr>\n",
       "      <th>3</th>\n",
       "      <td>28450</td>\n",
       "      <td>99999</td>\n",
       "      <td>201705010100</td>\n",
       "      <td>188.0</td>\n",
       "      <td>12.0</td>\n",
       "      <td>16.0</td>\n",
       "      <td>NaN</td>\n",
       "      <td>NaN</td>\n",
       "      <td>NaN</td>\n",
       "      <td>NaN</td>\n",
       "      <td>...</td>\n",
       "      <td>1009.1</td>\n",
       "      <td>NaN</td>\n",
       "      <td>984.0</td>\n",
       "      <td>NaN</td>\n",
       "      <td>NaN</td>\n",
       "      <td>NaN</td>\n",
       "      <td>NaN</td>\n",
       "      <td>NaN</td>\n",
       "      <td>NaN</td>\n",
       "      <td>35.0</td>\n",
       "    </tr>\n",
       "    <tr>\n",
       "      <th>4</th>\n",
       "      <td>28450</td>\n",
       "      <td>99999</td>\n",
       "      <td>201705010120</td>\n",
       "      <td>200.0</td>\n",
       "      <td>13.0</td>\n",
       "      <td>NaN</td>\n",
       "      <td>2.0</td>\n",
       "      <td>OBS</td>\n",
       "      <td>NaN</td>\n",
       "      <td>NaN</td>\n",
       "      <td>...</td>\n",
       "      <td>NaN</td>\n",
       "      <td>29.74</td>\n",
       "      <td>NaN</td>\n",
       "      <td>NaN</td>\n",
       "      <td>NaN</td>\n",
       "      <td>NaN</td>\n",
       "      <td>NaN</td>\n",
       "      <td>NaN</td>\n",
       "      <td>NaN</td>\n",
       "      <td>NaN</td>\n",
       "    </tr>\n",
       "  </tbody>\n",
       "</table>\n",
       "<p>5 rows × 33 columns</p>\n",
       "</div>"
      ],
      "text/plain": [
       "    USAF   WBAN  YR--MODAHRMN    DIR   SPD   GUS  CLG  SKC   L   M  ...  \\\n",
       "0  28450  99999  201705010000  174.0  10.0  14.0  NaN  NaN NaN NaN  ...   \n",
       "1  28450  99999  201705010020  180.0  10.0   NaN  4.0  NaN NaN NaN  ...   \n",
       "2  28450  99999  201705010050  190.0  10.0   NaN  4.0  NaN NaN NaN  ...   \n",
       "3  28450  99999  201705010100  188.0  12.0  16.0  NaN  NaN NaN NaN  ...   \n",
       "4  28450  99999  201705010120  200.0  13.0   NaN  2.0  OBS NaN NaN  ...   \n",
       "\n",
       "      SLP    ALT    STP  MAX  MIN  PCP01  PCP06  PCP24  PCPXX    SD  \n",
       "0  1009.2    NaN  984.1  NaN  NaN    NaN    NaN    NaN    NaN  35.0  \n",
       "1     NaN  29.74    NaN  NaN  NaN    NaN    NaN    NaN    NaN   NaN  \n",
       "2     NaN  29.74    NaN  NaN  NaN    NaN    NaN    NaN    NaN   NaN  \n",
       "3  1009.1    NaN  984.0  NaN  NaN    NaN    NaN    NaN    NaN  35.0  \n",
       "4     NaN  29.74    NaN  NaN  NaN    NaN    NaN    NaN    NaN   NaN  \n",
       "\n",
       "[5 rows x 33 columns]"
      ]
     },
     "execution_count": 2,
     "metadata": {},
     "output_type": "execute_result"
    }
   ],
   "source": [
    "data.head()"
   ]
  },
  {
   "cell_type": "markdown",
   "id": "dce7a594",
   "metadata": {},
   "source": [
    "### Part 2 \n",
    "\n",
    "In the cell below, fill in the variables values to print answers to these questions:\n",
    "\n",
    "- How many rows is there in the data (variable `rows`)?\n",
    "- What are the column names (variable `column_names`)?\n",
    "- What are the datatypes of the columns (variable `column_datatypes`)?"
   ]
  },
  {
   "cell_type": "code",
   "execution_count": 3,
   "id": "5b4baa70",
   "metadata": {},
   "outputs": [],
   "source": [
    "# Calculating rows and columns count and the type of all columns\n",
    "row_count = len(data)\n",
    "column_names = len(data.columns)\n",
    "column_datatypes = data.dtypes\n",
    "\n",
    "# YOUR CODE HERE"
   ]
  },
  {
   "cell_type": "code",
   "execution_count": 4,
   "id": "a723bd53",
   "metadata": {},
   "outputs": [
    {
     "name": "stdout",
     "output_type": "stream",
     "text": [
      "There are 11694 rows\n"
     ]
    }
   ],
   "source": [
    "# Print the number of rows in the dataframe:\n",
    "print(f\"There are {row_count} rows\")"
   ]
  },
  {
   "cell_type": "code",
   "execution_count": 5,
   "id": "9bb39fe5",
   "metadata": {},
   "outputs": [
    {
     "name": "stdout",
     "output_type": "stream",
     "text": [
      "The columns are: \n",
      "33\n"
     ]
    }
   ],
   "source": [
    "# Print the column names:\n",
    "print(f\"The columns are: \\n{column_names}\")"
   ]
  },
  {
   "cell_type": "code",
   "execution_count": 6,
   "id": "49b7abd5",
   "metadata": {},
   "outputs": [
    {
     "name": "stdout",
     "output_type": "stream",
     "text": [
      "The column types are: \n",
      "USAF              int64\n",
      "WBAN              int64\n",
      "YR--MODAHRMN      int64\n",
      "DIR             float64\n",
      "SPD             float64\n",
      "GUS             float64\n",
      "CLG             float64\n",
      "SKC              object\n",
      "L               float64\n",
      "M               float64\n",
      "H               float64\n",
      "VSB             float64\n",
      "MW              float64\n",
      "MW.1            float64\n",
      "MW.2            float64\n",
      "MW.3            float64\n",
      "AW              float64\n",
      "AW.1            float64\n",
      "AW.2            float64\n",
      "AW.3            float64\n",
      "W               float64\n",
      "TEMP            float64\n",
      "DEWP            float64\n",
      "SLP             float64\n",
      "ALT             float64\n",
      "STP             float64\n",
      "MAX             float64\n",
      "MIN             float64\n",
      "PCP01           float64\n",
      "PCP06           float64\n",
      "PCP24           float64\n",
      "PCPXX           float64\n",
      "SD              float64\n",
      "dtype: object\n"
     ]
    }
   ],
   "source": [
    "# Print the column datatypes:\n",
    "print(f\"The column types are: \\n{column_datatypes}\")"
   ]
  },
  {
   "cell_type": "markdown",
   "id": "ea8e5b69",
   "metadata": {},
   "source": [
    "### Part 3\n",
    "\n",
    "In the cell below, fill in the variables values to print answers to these questions:\n",
    "\n",
    "- What is the mean Fahrenheit temperature in the data (`temp_mean` variable calculated from the `TEMP` column)?\n",
    "- What is the standard deviation of the maximum temperature (`temp_max_std` variable calculated from the `MAX` column)?\n",
    "- How many unique stations exists in the data (`station_count` variable calcualted from the `USAF` column)?"
   ]
  },
  {
   "cell_type": "code",
   "execution_count": 7,
   "id": "fb659c47",
   "metadata": {},
   "outputs": [],
   "source": [
    "# Calculate mean temperature\n",
    "temp_mean = data[\"TEMP\"].mean()\n",
    "\n",
    "# Calculate standard deviaton of the maximum temperature:\n",
    "temp_max_std = data[\"MAX\"].std()\n",
    "\n",
    "#Calculate number of unique stations:\n",
    "station_count = data[\"USAF\"].nunique()\n",
    "\n",
    "# YOUR CODE HERE"
   ]
  },
  {
   "cell_type": "code",
   "execution_count": 8,
   "id": "11592698",
   "metadata": {},
   "outputs": [
    {
     "name": "stdout",
     "output_type": "stream",
     "text": [
      "The mean temperature in Fahrenheit is 52.2\n"
     ]
    }
   ],
   "source": [
    "# Check mean temperature value\n",
    "print(f\"The mean temperature in Fahrenheit is {round(temp_mean,1)}\")"
   ]
  },
  {
   "cell_type": "code",
   "execution_count": 9,
   "id": "a056b3a2",
   "metadata": {},
   "outputs": [
    {
     "name": "stdout",
     "output_type": "stream",
     "text": [
      "The standard deviation of maximum temperature is 10.3\n"
     ]
    }
   ],
   "source": [
    "# Check standard deviation value\n",
    "print(f\"The standard deviation of maximum temperature is {round(temp_max_std, 1)}\")"
   ]
  },
  {
   "cell_type": "code",
   "execution_count": 10,
   "id": "8891ea75",
   "metadata": {},
   "outputs": [
    {
     "name": "stdout",
     "output_type": "stream",
     "text": [
      "The number of unique stations is 2\n"
     ]
    }
   ],
   "source": [
    "# Check number of stations value\n",
    "print(f\"The number of unique stations is {station_count}\")"
   ]
  },
  {
   "cell_type": "markdown",
   "id": "b9b94d71",
   "metadata": {},
   "source": [
    "## Problem 2 - Data manipulation and selection \n",
    "\n",
    "In this problem you will clean the data from our data file by removing no-data values, convert temperature values in Fahrenheit to Celsius, and split the data into separate datasets using the weather station identification code. We will start this problem by cleaning and converting our temperature data. Please perform the tasks below by writing your code into the code cells in each section.\n",
    "\n",
    "### Tips for completing this problem\n",
    "\n",
    "- Use **exactly** the same variable names as in the instructions because your answers will be automatically graded, and the tests that grade your answers rely on following the same formatting or variable naming as in the instructions.\n",
    "- **Please do not**:\n",
    "\n",
    "\n",
    "\n",
    "**Your score on this problem will be based on following criteria:**\n",
    "\n",
    "- Creating a new dataframe called `selected` that contains select columns from the data file\n",
    "- Cleaning the new dataframe by removing no-data values\n",
    "- Creating a new column for temperatures converted from Fahrenheit to Celsius\n",
    "- Dividing the data into separate dataframes for the Helsinki Kumpula and Rovaniemi stations\n",
    "- Saving the new dataframes to CSV files\n",
    "- Including comments that explain what most lines in the code do\n",
    "- Answering a couple questions at the end of the problem\n",
    "- Uploading your notebook and data files to your GitHub repository for this week's exercise"
   ]
  },
  {
   "cell_type": "markdown",
   "id": "8d553574",
   "metadata": {},
   "source": [
    "### Part 1\n",
    "\n",
    "The first step for this problem is to read the data file `6153237444115dat.csv` again into a variable `data` using pandas. Remember to specify the no-data values (you can copy your code from Problem 1)."
   ]
  },
  {
   "cell_type": "code",
   "execution_count": 11,
   "id": "925039c0",
   "metadata": {},
   "outputs": [],
   "source": [
    "# Reading data and replacing *s with NaN\n",
    "data = pd.read_csv(\"data/6153237444115dat.csv\", na_values = [\"*\", \"**\", \"***\", \"****\", \"*****\", \"******\"])\n",
    "# YOUR CODE HERE"
   ]
  },
  {
   "cell_type": "markdown",
   "id": "989a8539",
   "metadata": {},
   "source": [
    "Check that the first rows of the DataFrame look ok:"
   ]
  },
  {
   "cell_type": "code",
   "execution_count": 12,
   "id": "5dde63e4",
   "metadata": {},
   "outputs": [
    {
     "data": {
      "text/html": [
       "<div>\n",
       "<style scoped>\n",
       "    .dataframe tbody tr th:only-of-type {\n",
       "        vertical-align: middle;\n",
       "    }\n",
       "\n",
       "    .dataframe tbody tr th {\n",
       "        vertical-align: top;\n",
       "    }\n",
       "\n",
       "    .dataframe thead th {\n",
       "        text-align: right;\n",
       "    }\n",
       "</style>\n",
       "<table border=\"1\" class=\"dataframe\">\n",
       "  <thead>\n",
       "    <tr style=\"text-align: right;\">\n",
       "      <th></th>\n",
       "      <th>USAF</th>\n",
       "      <th>WBAN</th>\n",
       "      <th>YR--MODAHRMN</th>\n",
       "      <th>DIR</th>\n",
       "      <th>SPD</th>\n",
       "      <th>GUS</th>\n",
       "      <th>CLG</th>\n",
       "      <th>SKC</th>\n",
       "      <th>L</th>\n",
       "      <th>M</th>\n",
       "      <th>...</th>\n",
       "      <th>SLP</th>\n",
       "      <th>ALT</th>\n",
       "      <th>STP</th>\n",
       "      <th>MAX</th>\n",
       "      <th>MIN</th>\n",
       "      <th>PCP01</th>\n",
       "      <th>PCP06</th>\n",
       "      <th>PCP24</th>\n",
       "      <th>PCPXX</th>\n",
       "      <th>SD</th>\n",
       "    </tr>\n",
       "  </thead>\n",
       "  <tbody>\n",
       "    <tr>\n",
       "      <th>0</th>\n",
       "      <td>28450</td>\n",
       "      <td>99999</td>\n",
       "      <td>201705010000</td>\n",
       "      <td>174.0</td>\n",
       "      <td>10.0</td>\n",
       "      <td>14.0</td>\n",
       "      <td>NaN</td>\n",
       "      <td>NaN</td>\n",
       "      <td>NaN</td>\n",
       "      <td>NaN</td>\n",
       "      <td>...</td>\n",
       "      <td>1009.2</td>\n",
       "      <td>NaN</td>\n",
       "      <td>984.1</td>\n",
       "      <td>NaN</td>\n",
       "      <td>NaN</td>\n",
       "      <td>NaN</td>\n",
       "      <td>NaN</td>\n",
       "      <td>NaN</td>\n",
       "      <td>NaN</td>\n",
       "      <td>35.0</td>\n",
       "    </tr>\n",
       "    <tr>\n",
       "      <th>1</th>\n",
       "      <td>28450</td>\n",
       "      <td>99999</td>\n",
       "      <td>201705010020</td>\n",
       "      <td>180.0</td>\n",
       "      <td>10.0</td>\n",
       "      <td>NaN</td>\n",
       "      <td>4.0</td>\n",
       "      <td>NaN</td>\n",
       "      <td>NaN</td>\n",
       "      <td>NaN</td>\n",
       "      <td>...</td>\n",
       "      <td>NaN</td>\n",
       "      <td>29.74</td>\n",
       "      <td>NaN</td>\n",
       "      <td>NaN</td>\n",
       "      <td>NaN</td>\n",
       "      <td>NaN</td>\n",
       "      <td>NaN</td>\n",
       "      <td>NaN</td>\n",
       "      <td>NaN</td>\n",
       "      <td>NaN</td>\n",
       "    </tr>\n",
       "    <tr>\n",
       "      <th>2</th>\n",
       "      <td>28450</td>\n",
       "      <td>99999</td>\n",
       "      <td>201705010050</td>\n",
       "      <td>190.0</td>\n",
       "      <td>10.0</td>\n",
       "      <td>NaN</td>\n",
       "      <td>4.0</td>\n",
       "      <td>NaN</td>\n",
       "      <td>NaN</td>\n",
       "      <td>NaN</td>\n",
       "      <td>...</td>\n",
       "      <td>NaN</td>\n",
       "      <td>29.74</td>\n",
       "      <td>NaN</td>\n",
       "      <td>NaN</td>\n",
       "      <td>NaN</td>\n",
       "      <td>NaN</td>\n",
       "      <td>NaN</td>\n",
       "      <td>NaN</td>\n",
       "      <td>NaN</td>\n",
       "      <td>NaN</td>\n",
       "    </tr>\n",
       "    <tr>\n",
       "      <th>3</th>\n",
       "      <td>28450</td>\n",
       "      <td>99999</td>\n",
       "      <td>201705010100</td>\n",
       "      <td>188.0</td>\n",
       "      <td>12.0</td>\n",
       "      <td>16.0</td>\n",
       "      <td>NaN</td>\n",
       "      <td>NaN</td>\n",
       "      <td>NaN</td>\n",
       "      <td>NaN</td>\n",
       "      <td>...</td>\n",
       "      <td>1009.1</td>\n",
       "      <td>NaN</td>\n",
       "      <td>984.0</td>\n",
       "      <td>NaN</td>\n",
       "      <td>NaN</td>\n",
       "      <td>NaN</td>\n",
       "      <td>NaN</td>\n",
       "      <td>NaN</td>\n",
       "      <td>NaN</td>\n",
       "      <td>35.0</td>\n",
       "    </tr>\n",
       "    <tr>\n",
       "      <th>4</th>\n",
       "      <td>28450</td>\n",
       "      <td>99999</td>\n",
       "      <td>201705010120</td>\n",
       "      <td>200.0</td>\n",
       "      <td>13.0</td>\n",
       "      <td>NaN</td>\n",
       "      <td>2.0</td>\n",
       "      <td>OBS</td>\n",
       "      <td>NaN</td>\n",
       "      <td>NaN</td>\n",
       "      <td>...</td>\n",
       "      <td>NaN</td>\n",
       "      <td>29.74</td>\n",
       "      <td>NaN</td>\n",
       "      <td>NaN</td>\n",
       "      <td>NaN</td>\n",
       "      <td>NaN</td>\n",
       "      <td>NaN</td>\n",
       "      <td>NaN</td>\n",
       "      <td>NaN</td>\n",
       "      <td>NaN</td>\n",
       "    </tr>\n",
       "  </tbody>\n",
       "</table>\n",
       "<p>5 rows × 33 columns</p>\n",
       "</div>"
      ],
      "text/plain": [
       "    USAF   WBAN  YR--MODAHRMN    DIR   SPD   GUS  CLG  SKC   L   M  ...  \\\n",
       "0  28450  99999  201705010000  174.0  10.0  14.0  NaN  NaN NaN NaN  ...   \n",
       "1  28450  99999  201705010020  180.0  10.0   NaN  4.0  NaN NaN NaN  ...   \n",
       "2  28450  99999  201705010050  190.0  10.0   NaN  4.0  NaN NaN NaN  ...   \n",
       "3  28450  99999  201705010100  188.0  12.0  16.0  NaN  NaN NaN NaN  ...   \n",
       "4  28450  99999  201705010120  200.0  13.0   NaN  2.0  OBS NaN NaN  ...   \n",
       "\n",
       "      SLP    ALT    STP  MAX  MIN  PCP01  PCP06  PCP24  PCPXX    SD  \n",
       "0  1009.2    NaN  984.1  NaN  NaN    NaN    NaN    NaN    NaN  35.0  \n",
       "1     NaN  29.74    NaN  NaN  NaN    NaN    NaN    NaN    NaN   NaN  \n",
       "2     NaN  29.74    NaN  NaN  NaN    NaN    NaN    NaN    NaN   NaN  \n",
       "3  1009.1    NaN  984.0  NaN  NaN    NaN    NaN    NaN    NaN  35.0  \n",
       "4     NaN  29.74    NaN  NaN  NaN    NaN    NaN    NaN    NaN   NaN  \n",
       "\n",
       "[5 rows x 33 columns]"
      ]
     },
     "execution_count": 12,
     "metadata": {},
     "output_type": "execute_result"
    }
   ],
   "source": [
    "data.head()"
   ]
  },
  {
   "cell_type": "markdown",
   "id": "34993074",
   "metadata": {},
   "source": [
    "Check the number of rows in the DataFrame:"
   ]
  },
  {
   "cell_type": "code",
   "execution_count": 13,
   "id": "6e232918",
   "metadata": {},
   "outputs": [
    {
     "name": "stdout",
     "output_type": "stream",
     "text": [
      " There are 11694 rows in the DataFrame\n"
     ]
    }
   ],
   "source": [
    "print(f' There are {len(data)} rows in the DataFrame')"
   ]
  },
  {
   "cell_type": "markdown",
   "id": "6e750d8b",
   "metadata": {},
   "source": [
    "### Part 2 \n",
    "\n",
    "Next, your task is to subset the data and remove rows with missing temperature values.\n",
    "\n",
    "- Select the columns `USAF`, `YR--MODAHRMN`, `TEMP`, `MAX`, and `MIN` from the `data` dataframe and assign them to the variable `selected`\n",
    "- Remove all rows from `selected` that have NoData in the column `TEMP` using the `dropna()` function"
   ]
  },
  {
   "cell_type": "code",
   "execution_count": 14,
   "id": "e722eee3",
   "metadata": {},
   "outputs": [],
   "source": [
    "# Selecting some of the columns from the DataFrame\n",
    "selected = data[[\"USAF\", \"YR--MODAHRMN\", \"TEMP\", \"MAX\", \"MIN\"]]\n",
    "\n",
    "# Removing the NaN values from the Temp column\n",
    "selected = selected.dropna(subset = [\"TEMP\"])"
   ]
  },
  {
   "cell_type": "markdown",
   "id": "262a7af9",
   "metadata": {},
   "source": [
    "Check that you selected the correct column names:"
   ]
  },
  {
   "cell_type": "code",
   "execution_count": 15,
   "id": "cbaa5a6a",
   "metadata": {},
   "outputs": [
    {
     "data": {
      "text/html": [
       "<div>\n",
       "<style scoped>\n",
       "    .dataframe tbody tr th:only-of-type {\n",
       "        vertical-align: middle;\n",
       "    }\n",
       "\n",
       "    .dataframe tbody tr th {\n",
       "        vertical-align: top;\n",
       "    }\n",
       "\n",
       "    .dataframe thead th {\n",
       "        text-align: right;\n",
       "    }\n",
       "</style>\n",
       "<table border=\"1\" class=\"dataframe\">\n",
       "  <thead>\n",
       "    <tr style=\"text-align: right;\">\n",
       "      <th></th>\n",
       "      <th>USAF</th>\n",
       "      <th>YR--MODAHRMN</th>\n",
       "      <th>TEMP</th>\n",
       "      <th>MAX</th>\n",
       "      <th>MIN</th>\n",
       "    </tr>\n",
       "  </thead>\n",
       "  <tbody>\n",
       "    <tr>\n",
       "      <th>0</th>\n",
       "      <td>28450</td>\n",
       "      <td>201705010000</td>\n",
       "      <td>31.0</td>\n",
       "      <td>NaN</td>\n",
       "      <td>NaN</td>\n",
       "    </tr>\n",
       "    <tr>\n",
       "      <th>1</th>\n",
       "      <td>28450</td>\n",
       "      <td>201705010020</td>\n",
       "      <td>30.0</td>\n",
       "      <td>NaN</td>\n",
       "      <td>NaN</td>\n",
       "    </tr>\n",
       "    <tr>\n",
       "      <th>2</th>\n",
       "      <td>28450</td>\n",
       "      <td>201705010050</td>\n",
       "      <td>30.0</td>\n",
       "      <td>NaN</td>\n",
       "      <td>NaN</td>\n",
       "    </tr>\n",
       "    <tr>\n",
       "      <th>3</th>\n",
       "      <td>28450</td>\n",
       "      <td>201705010100</td>\n",
       "      <td>31.0</td>\n",
       "      <td>NaN</td>\n",
       "      <td>NaN</td>\n",
       "    </tr>\n",
       "    <tr>\n",
       "      <th>4</th>\n",
       "      <td>28450</td>\n",
       "      <td>201705010120</td>\n",
       "      <td>30.0</td>\n",
       "      <td>NaN</td>\n",
       "      <td>NaN</td>\n",
       "    </tr>\n",
       "  </tbody>\n",
       "</table>\n",
       "</div>"
      ],
      "text/plain": [
       "    USAF  YR--MODAHRMN  TEMP  MAX  MIN\n",
       "0  28450  201705010000  31.0  NaN  NaN\n",
       "1  28450  201705010020  30.0  NaN  NaN\n",
       "2  28450  201705010050  30.0  NaN  NaN\n",
       "3  28450  201705010100  31.0  NaN  NaN\n",
       "4  28450  201705010120  30.0  NaN  NaN"
      ]
     },
     "execution_count": 15,
     "metadata": {},
     "output_type": "execute_result"
    }
   ],
   "source": [
    "selected.head()"
   ]
  },
  {
   "cell_type": "markdown",
   "id": "a5afbbd4",
   "metadata": {},
   "source": [
    "Check how many rows you have after removing the no-data values:"
   ]
  },
  {
   "cell_type": "code",
   "execution_count": 16,
   "id": "99d0a889",
   "metadata": {},
   "outputs": [
    {
     "data": {
      "text/plain": [
       "11691"
      ]
     },
     "execution_count": 16,
     "metadata": {},
     "output_type": "execute_result"
    }
   ],
   "source": [
    "len(selected)"
   ]
  },
  {
   "cell_type": "markdown",
   "id": "c7a0daae",
   "metadata": {},
   "source": [
    "### Part 3 \n",
    "\n",
    "Next, you can convert the temperature values in Fahrenheit to Celsius.\n",
    "\n",
    "- Create a new column in `selected` called `Celsius`\n",
    "- Convert the Fahrenheit temperatures from `TEMP` using the conversion formula below and store the results in the new `Celsius` column.\n",
    "\n",
    "$$\n",
    "\\Large\n",
    "\\begin{equation}\n",
    "  T_{\\mathrm{Celsius}} = (T_{\\mathrm{Fahrenheit}} - 32)~/~1.8\n",
    "\\end{equation}\n",
    "$$\n",
    "\n",
    "- Round the values in the `Celsius` column to have 0 decimals (**do not** create a new column, update the current one)\n",
    "- Convert the `Celsius` values into integers (**do not** create a new column, update the current one)"
   ]
  },
  {
   "cell_type": "code",
   "execution_count": 17,
   "id": "47e23f29",
   "metadata": {},
   "outputs": [],
   "source": [
    "# Defining a function that converts Fahrenheit To Celsius\n",
    "def fahr_to_celsius(Temp):\n",
    "    return(Temp - 32) / 1.8\n",
    "    \n",
    "# Creating a new column in selected DataFrame and fill with the converted data\n",
    "selected[\"Celsius\"] = selected[\"TEMP\"].apply(fahr_to_celsius)"
   ]
  },
  {
   "cell_type": "code",
   "execution_count": 18,
   "id": "1beebb50",
   "metadata": {},
   "outputs": [
    {
     "data": {
      "text/html": [
       "<div>\n",
       "<style scoped>\n",
       "    .dataframe tbody tr th:only-of-type {\n",
       "        vertical-align: middle;\n",
       "    }\n",
       "\n",
       "    .dataframe tbody tr th {\n",
       "        vertical-align: top;\n",
       "    }\n",
       "\n",
       "    .dataframe thead th {\n",
       "        text-align: right;\n",
       "    }\n",
       "</style>\n",
       "<table border=\"1\" class=\"dataframe\">\n",
       "  <thead>\n",
       "    <tr style=\"text-align: right;\">\n",
       "      <th></th>\n",
       "      <th>USAF</th>\n",
       "      <th>YR--MODAHRMN</th>\n",
       "      <th>TEMP</th>\n",
       "      <th>MAX</th>\n",
       "      <th>MIN</th>\n",
       "      <th>Celsius</th>\n",
       "    </tr>\n",
       "  </thead>\n",
       "  <tbody>\n",
       "    <tr>\n",
       "      <th>0</th>\n",
       "      <td>28450</td>\n",
       "      <td>201705010000</td>\n",
       "      <td>31.0</td>\n",
       "      <td>NaN</td>\n",
       "      <td>NaN</td>\n",
       "      <td>-0.555556</td>\n",
       "    </tr>\n",
       "    <tr>\n",
       "      <th>1</th>\n",
       "      <td>28450</td>\n",
       "      <td>201705010020</td>\n",
       "      <td>30.0</td>\n",
       "      <td>NaN</td>\n",
       "      <td>NaN</td>\n",
       "      <td>-1.111111</td>\n",
       "    </tr>\n",
       "    <tr>\n",
       "      <th>2</th>\n",
       "      <td>28450</td>\n",
       "      <td>201705010050</td>\n",
       "      <td>30.0</td>\n",
       "      <td>NaN</td>\n",
       "      <td>NaN</td>\n",
       "      <td>-1.111111</td>\n",
       "    </tr>\n",
       "    <tr>\n",
       "      <th>3</th>\n",
       "      <td>28450</td>\n",
       "      <td>201705010100</td>\n",
       "      <td>31.0</td>\n",
       "      <td>NaN</td>\n",
       "      <td>NaN</td>\n",
       "      <td>-0.555556</td>\n",
       "    </tr>\n",
       "    <tr>\n",
       "      <th>4</th>\n",
       "      <td>28450</td>\n",
       "      <td>201705010120</td>\n",
       "      <td>30.0</td>\n",
       "      <td>NaN</td>\n",
       "      <td>NaN</td>\n",
       "      <td>-1.111111</td>\n",
       "    </tr>\n",
       "  </tbody>\n",
       "</table>\n",
       "</div>"
      ],
      "text/plain": [
       "    USAF  YR--MODAHRMN  TEMP  MAX  MIN   Celsius\n",
       "0  28450  201705010000  31.0  NaN  NaN -0.555556\n",
       "1  28450  201705010020  30.0  NaN  NaN -1.111111\n",
       "2  28450  201705010050  30.0  NaN  NaN -1.111111\n",
       "3  28450  201705010100  31.0  NaN  NaN -0.555556\n",
       "4  28450  201705010120  30.0  NaN  NaN -1.111111"
      ]
     },
     "execution_count": 18,
     "metadata": {},
     "output_type": "execute_result"
    }
   ],
   "source": [
    "# Checking your dataframe\n",
    "selected.head()"
   ]
  },
  {
   "cell_type": "code",
   "execution_count": 19,
   "id": "547b3c5b",
   "metadata": {},
   "outputs": [
    {
     "data": {
      "text/plain": [
       "USAF              int64\n",
       "YR--MODAHRMN      int64\n",
       "TEMP            float64\n",
       "MAX             float64\n",
       "MIN             float64\n",
       "Celsius         float64\n",
       "dtype: object"
      ]
     },
     "execution_count": 19,
     "metadata": {},
     "output_type": "execute_result"
    }
   ],
   "source": [
    "# Check data types\n",
    "selected.dtypes"
   ]
  },
  {
   "cell_type": "markdown",
   "id": "c7a76f32",
   "metadata": {},
   "source": [
    "### Part 4 \n",
    "\n",
    "Your next task is to divide `selected` into two separate dataframes. Please use the given variable names and write your answer in the code cell below.\n",
    "\n",
    "- Select all rows from the `selected` DataFrame with the `USAF` code `29980` and store them in a variable called `kumpula`\n",
    "- Select all rows from the `selected` DataFrame with the `USAF` code `28450` and store them in a variable called `rovaniemi`"
   ]
  },
  {
   "cell_type": "code",
   "execution_count": 20,
   "id": "c0d6c15d",
   "metadata": {},
   "outputs": [],
   "source": [
    "# dividing selected dataframe into two separate dataframes \n",
    "kumpula = selected[selected[\"USAF\"] == 29980]\n",
    "rovaniemi = selected[selected[\"USAF\"] == 28450]\n",
    "\n",
    "# YOUR CODE HERE"
   ]
  },
  {
   "cell_type": "code",
   "execution_count": 21,
   "id": "1c95e43f",
   "metadata": {},
   "outputs": [
    {
     "name": "stdout",
     "output_type": "stream",
     "text": [
      "Kumpula: \n",
      "       USAF  YR--MODAHRMN  TEMP  MAX  MIN   Celsius\n",
      "8770  29980  201705010000  37.0  NaN  NaN  2.777778\n",
      "8771  29980  201705010100  37.0  NaN  NaN  2.777778\n",
      "8772  29980  201705010200  37.0  NaN  NaN  2.777778\n",
      "8773  29980  201705010300  37.0  NaN  NaN  2.777778\n",
      "8774  29980  201705010400  39.0  NaN  NaN  3.888889\n",
      "\n"
     ]
    }
   ],
   "source": [
    "# Check the dataframe\n",
    "print(f\"Kumpula: \\n{kumpula.head()}\\n\")"
   ]
  },
  {
   "cell_type": "code",
   "execution_count": 22,
   "id": "9c43c9b1",
   "metadata": {},
   "outputs": [
    {
     "name": "stdout",
     "output_type": "stream",
     "text": [
      "Rovaniemi: \n",
      "    USAF  YR--MODAHRMN  TEMP  MAX  MIN   Celsius\n",
      "0  28450  201705010000  31.0  NaN  NaN -0.555556\n",
      "1  28450  201705010020  30.0  NaN  NaN -1.111111\n",
      "2  28450  201705010050  30.0  NaN  NaN -1.111111\n",
      "3  28450  201705010100  31.0  NaN  NaN -0.555556\n",
      "4  28450  201705010120  30.0  NaN  NaN -1.111111\n",
      "\n"
     ]
    }
   ],
   "source": [
    "# Check the dataframe\n",
    "print(f\"Rovaniemi: \\n{rovaniemi.head()}\\n\")"
   ]
  },
  {
   "cell_type": "markdown",
   "id": "188e9136",
   "metadata": {},
   "source": [
    "### Part 5 \n",
    "\n",
    "Now you can save your selections to csv files.\n",
    "\n",
    "- Save the `kumpula` DataFrame in the file `Kumpula_temps_May_Aug_2017.csv` (CSV format)\n",
    "- Save the `rovaniemi` DataFrame in the file `Rovaniemi_temps_May_Aug_2017.csv` (CSV format)\n",
    "\n",
    "For each file, be sure to \n",
    "\n",
    "- Separate the columns with commas (`,`)\n",
    "- Use only 2 decimals for the floating point numbers\n",
    "\n"
   ]
  },
  {
   "cell_type": "code",
   "execution_count": 23,
   "id": "dfa5bb34",
   "metadata": {},
   "outputs": [],
   "source": [
    "# Defining the direcation to save two dataframes\n",
    "output_k = r'F:\\Learning\\Python-SpatialAanalysis\\4-Assignments\\pandas-and-matplotlib-HamedAhmadi89\\data\\Kumpula_temps_May_Aug_2017.csv'\n",
    "output_r = r'F:\\Learning\\Python-SpatialAanalysis\\4-Assignments\\pandas-and-matplotlib-HamedAhmadi89\\data\\Rovaniemi_temps_May_Aug_2017.csv'\n",
    "\n",
    "# Saving the dataframes\n",
    "kumpula.to_csv(output_k, sep=',', float_format='%.2f', index = False)\n",
    "rovaniemi.to_csv(output_r, sep=',', float_format='%.2f', index = False)"
   ]
  },
  {
   "cell_type": "code",
   "execution_count": 24,
   "id": "6d241565",
   "metadata": {},
   "outputs": [],
   "source": [
    "#Read-only cell for hidden tests :)"
   ]
  },
  {
   "cell_type": "markdown",
   "id": "ff81855c",
   "metadata": {},
   "source": [
    "### Problem 2 summary\n",
    "\n",
    "- Was anything unclear to you in Problem 2?\n",
    "- Did you encounter any problems with decimal formatting?\n",
    "\n",
    " #### Answers: \n",
    " - No\n",
    " - Yes. At first, I didn't know how to use 2 decimals for the floating data; Then I searched and found out. \n",
    "Also, make sure you:\n",
    "\n",
    "- Check that your code includes informative comments explaining what your code does\n",
    "- Commit and push your changes to your GitHub repository for Exercise 5 (including your 2 new data files)\n",
    "\n"
   ]
  },
  {
   "cell_type": "markdown",
   "id": "a4cd0d0b",
   "metadata": {},
   "source": [
    "## Problem 3 - Data analysis \n",
    "\n",
    "In this problem we will explore our temperature data by comparing spring temperatures between Helsinki Kumpula and Rovaniemi. To do this we'll use some conditions to extract subsets of our data and then analyse these subsets using basic pandas functions. Please perform the tasks below by writing your code into the code cells in each section.\n",
    "\n",
    "### Tips for completing this problem\n",
    "\n",
    "- Use **exactly** the same variable names as in the instructions because your answers will be automatically graded, and the tests that grade your answers rely on following the same formatting or variable naming as in the instructions.\n",
    "- **Please do not**:\n",
    "\n",
    "   \n",
    "\n",
    "\n",
    "**Your score on this problem will be based on following criteria:**\n",
    "\n",
    "- Calculating the median temperatures for Helsinki Kumpula and Rovaniemi for the summer of 2017\n",
    "- Selecting temperatures for May and June 2017 in separate dataframes for each location\n",
    "- Printing out some summary values for each month (May, June) and location (Kumpula, Rovaniemi)\n",
    "- Including comments that explain what most lines in the code do\n",
    "- Answering a couple questions at the end of the problem\n",
    "- Uploading your notebook and data files to your GitHub repository for this week's exercise"
   ]
  },
  {
   "cell_type": "markdown",
   "id": "7c105eb0",
   "metadata": {},
   "source": [
    "### Part 1 \n",
    "\n",
    "First, you need to load the data from Problem 2.\n",
    "\n",
    "- Read in the csv files generated in Problem 2 to the variables `kumpula` and `rovaniemi`"
   ]
  },
  {
   "cell_type": "code",
   "execution_count": 25,
   "id": "b78fd896",
   "metadata": {},
   "outputs": [],
   "source": [
    "# Reading DataFrames for kumpula and rovaniemi\n",
    "kumpula = pd.read_csv(\"data/Kumpula_temps_May_Aug_2017.csv\")\n",
    "rovaniemi = pd.read_csv(\"data/Rovaniemi_temps_May_Aug_2017.csv\")"
   ]
  },
  {
   "cell_type": "code",
   "execution_count": 26,
   "id": "ab8297cb",
   "metadata": {},
   "outputs": [
    {
     "name": "stdout",
     "output_type": "stream",
     "text": [
      "    USAF  YR--MODAHRMN  TEMP  MAX  MIN  Celsius\n",
      "0  29980  201705010000  37.0  NaN  NaN     2.78\n",
      "1  29980  201705010100  37.0  NaN  NaN     2.78\n",
      "2  29980  201705010200  37.0  NaN  NaN     2.78\n",
      "3  29980  201705010300  37.0  NaN  NaN     2.78\n",
      "4  29980  201705010400  39.0  NaN  NaN     3.89\n",
      "\n",
      "    USAF  YR--MODAHRMN  TEMP  MAX  MIN  Celsius\n",
      "0  28450  201705010000  31.0  NaN  NaN    -0.56\n",
      "1  28450  201705010020  30.0  NaN  NaN    -1.11\n",
      "2  28450  201705010050  30.0  NaN  NaN    -1.11\n",
      "3  28450  201705010100  31.0  NaN  NaN    -0.56\n",
      "4  28450  201705010120  30.0  NaN  NaN    -1.11\n"
     ]
    }
   ],
   "source": [
    "# Printing DataFrames\n",
    "print(kumpula.head())\n",
    "print(\"\")\n",
    "print(rovaniemi.head())"
   ]
  },
  {
   "cell_type": "markdown",
   "id": "e55cfa83",
   "metadata": {},
   "source": [
    "### Part 2 \n",
    "\n",
    "Next you can find the *median temperatures* for the period the data covers.\n",
    "\n",
    "- What was the median Celsius temperature during the observed period in:\n",
    "    - Helsinki Kumpula? (store the answer in a variable `kumpula_median`)\n",
    "    - Rovaniemi? (store the answer in a variable `rovaniemi_median`)"
   ]
  },
  {
   "cell_type": "code",
   "execution_count": 27,
   "id": "493a050f",
   "metadata": {},
   "outputs": [],
   "source": [
    "# Calculating medians of Celsius for the tow stations\n",
    "kumpula_median = kumpula[\"Celsius\"].median()\n",
    "rovaniemi_median = rovaniemi[\"Celsius\"].median()"
   ]
  },
  {
   "cell_type": "code",
   "execution_count": 28,
   "id": "2fea7d00",
   "metadata": {},
   "outputs": [
    {
     "name": "stdout",
     "output_type": "stream",
     "text": [
      "Kumpula median: 14.44\n",
      "Rovaniemi median: 11.11\n"
     ]
    }
   ],
   "source": [
    "# Prints the median temperatures\n",
    "print(f\"Kumpula median: {kumpula_median}\")\n",
    "print(f\"Rovaniemi median: {rovaniemi_median}\")"
   ]
  },
  {
   "cell_type": "markdown",
   "id": "83141811",
   "metadata": {},
   "source": [
    "### Part 3 \n",
    "\n",
    "The median temperatures above consider data from the entire summer (May-Aug), hence the differences might not be so clear. Let's now find the *mean temperatures* from May and June 2017 in Kumpula and Rovaniemi.\n",
    "\n",
    "- From the `kumpula` and `rovaniemi` DataFrames, select the rows where values of the `YR--MODAHRMN` column are from May 2017\n",
    "    - Assign these selected rows to the variables `kumpula_may` and `rovaniemi_may` (you can check the \n",
    "- Repeat the procedure for the month of June and assign those values to variables to `kumpula_june` and `rovaniemi_june`"
   ]
  },
  {
   "cell_type": "code",
   "execution_count": 29,
   "id": "f9d0bbbe",
   "metadata": {},
   "outputs": [],
   "source": [
    "# Select the subset of the Kumpula and Rovaniemi data for the 5th and 6th month\n",
    "\n",
    "# Selecting May data for kumpula \n",
    "kumpula_may = kumpula[(kumpula[\"YR--MODAHRMN\"] >= 201705010000) & (kumpula[\"YR--MODAHRMN\"] < 201706010000)]\n",
    "\n",
    "# Selecting May data for rovaniemi \n",
    "rovaniemi_may = rovaniemi[(rovaniemi[\"YR--MODAHRMN\"] >= 201705010000) & (rovaniemi[\"YR--MODAHRMN\"] < 201706010000)]\n",
    "\n",
    "# Selecting June data for kumpula \n",
    "kumpula_june = kumpula[(kumpula[\"YR--MODAHRMN\"] >= 201706010000) & (kumpula[\"YR--MODAHRMN\"] < 201707010000)]\n",
    "\n",
    "# Selecting June data for rovaniemi \n",
    "rovaniemi_june = rovaniemi[(rovaniemi[\"YR--MODAHRMN\"] >= 201706010000) & (rovaniemi[\"YR--MODAHRMN\"] < 201707010000)]"
   ]
  },
  {
   "cell_type": "code",
   "execution_count": 30,
   "id": "3ba88b0e",
   "metadata": {},
   "outputs": [
    {
     "name": "stdout",
     "output_type": "stream",
     "text": [
      "First values in May, Kumpula:\n",
      "    USAF  YR--MODAHRMN  TEMP  MAX  MIN  Celsius\n",
      "0  29980  201705010000  37.0  NaN  NaN     2.78\n",
      "1  29980  201705010100  37.0  NaN  NaN     2.78\n",
      "2  29980  201705010200  37.0  NaN  NaN     2.78\n",
      "3  29980  201705010300  37.0  NaN  NaN     2.78\n",
      "4  29980  201705010400  39.0  NaN  NaN     3.89\n",
      "\n",
      "Last values in May, Kumpula:\n",
      "      USAF  YR--MODAHRMN  TEMP  MAX  MIN  Celsius\n",
      "736  29980  201705311900  51.0  NaN  NaN    10.56\n",
      "737  29980  201705312000  50.0  NaN  NaN    10.00\n",
      "738  29980  201705312100  47.0  NaN  NaN     8.33\n",
      "739  29980  201705312200  44.0  NaN  NaN     6.67\n",
      "740  29980  201705312300  43.0  NaN  NaN     6.11\n"
     ]
    }
   ],
   "source": [
    "print(f\"First values in May, Kumpula:\\n{kumpula_may.head()}\\n\")\n",
    "print(f\"Last values in May, Kumpula:\\n{kumpula_may.tail()}\")"
   ]
  },
  {
   "cell_type": "code",
   "execution_count": 31,
   "id": "0c4256b1",
   "metadata": {},
   "outputs": [
    {
     "name": "stdout",
     "output_type": "stream",
     "text": [
      "First values in June, Kumpula:\n",
      "      USAF  YR--MODAHRMN  TEMP  MAX  MIN  Celsius\n",
      "741  29980  201706010000  42.0  NaN  NaN     5.56\n",
      "742  29980  201706010100  40.0  NaN  NaN     4.44\n",
      "743  29980  201706010200  40.0  NaN  NaN     4.44\n",
      "744  29980  201706010300  41.0  NaN  NaN     5.00\n",
      "745  29980  201706010400  44.0  NaN  NaN     6.67\n",
      "\n",
      "Last values in June, Kumpula:\n",
      "       USAF  YR--MODAHRMN  TEMP  MAX  MIN  Celsius\n",
      "1450  29980  201706301900  65.0  NaN  NaN    18.33\n",
      "1451  29980  201706302000  61.0  NaN  NaN    16.11\n",
      "1452  29980  201706302100  63.0  NaN  NaN    17.22\n",
      "1453  29980  201706302200  62.0  NaN  NaN    16.67\n",
      "1454  29980  201706302300  61.0  NaN  NaN    16.11\n"
     ]
    }
   ],
   "source": [
    "print(f\"First values in June, Kumpula:\\n{kumpula_june.head()}\\n\")\n",
    "print(f\"Last values in June, Kumpula:\\n{kumpula_june.tail()}\")"
   ]
  },
  {
   "cell_type": "code",
   "execution_count": 32,
   "id": "c7d229fb",
   "metadata": {},
   "outputs": [
    {
     "name": "stdout",
     "output_type": "stream",
     "text": [
      "First values in May, Rovaniemi:\n",
      "    USAF  YR--MODAHRMN  TEMP  MAX  MIN  Celsius\n",
      "0  28450  201705010000  31.0  NaN  NaN    -0.56\n",
      "1  28450  201705010020  30.0  NaN  NaN    -1.11\n",
      "2  28450  201705010050  30.0  NaN  NaN    -1.11\n",
      "3  28450  201705010100  31.0  NaN  NaN    -0.56\n",
      "4  28450  201705010120  30.0  NaN  NaN    -1.11\n",
      "\n",
      "Last values in May, Rovaniemi:\n",
      "       USAF  YR--MODAHRMN  TEMP  MAX  MIN  Celsius\n",
      "2215  28450  201705312220  32.0  NaN  NaN     0.00\n",
      "2216  28450  201705312250  32.0  NaN  NaN     0.00\n",
      "2217  28450  201705312300  33.0  NaN  NaN     0.56\n",
      "2218  28450  201705312320  32.0  NaN  NaN     0.00\n",
      "2219  28450  201705312350  30.0  NaN  NaN    -1.11\n"
     ]
    }
   ],
   "source": [
    "print(f\"First values in May, Rovaniemi:\\n{rovaniemi_may.head()}\\n\")\n",
    "print(f\"Last values in May, Rovaniemi:\\n{rovaniemi_may.tail()}\")"
   ]
  },
  {
   "cell_type": "code",
   "execution_count": 33,
   "id": "94ac6a25",
   "metadata": {},
   "outputs": [
    {
     "name": "stdout",
     "output_type": "stream",
     "text": [
      "First values in June, Rovaniemi:\n",
      "       USAF  YR--MODAHRMN  TEMP  MAX  MIN  Celsius\n",
      "2220  28450  201706010000  32.0  NaN  NaN     0.00\n",
      "2221  28450  201706010020  30.0  NaN  NaN    -1.11\n",
      "2222  28450  201706010050  30.0  NaN  NaN    -1.11\n",
      "2223  28450  201706010100  31.0  NaN  NaN    -0.56\n",
      "2224  28450  201706010120  30.0  NaN  NaN    -1.11\n",
      "\n",
      "Last values in June, Rovaniemi:\n",
      "       USAF  YR--MODAHRMN  TEMP  MAX  MIN  Celsius\n",
      "4342  28450  201706302220  57.0  NaN  NaN    13.89\n",
      "4343  28450  201706302250  57.0  NaN  NaN    13.89\n",
      "4344  28450  201706302300  56.0  NaN  NaN    13.33\n",
      "4345  28450  201706302320  57.0  NaN  NaN    13.89\n",
      "4346  28450  201706302350  57.0  NaN  NaN    13.89\n"
     ]
    }
   ],
   "source": [
    "print(f\"First values in June, Rovaniemi:\\n{rovaniemi_june.head()}\\n\")\n",
    "print(f\"Last values in June, Rovaniemi:\\n{rovaniemi_june.tail()}\")"
   ]
  },
  {
   "cell_type": "markdown",
   "id": "075e14f4",
   "metadata": {},
   "source": [
    "### Part 4\n",
    "\n",
    "Now you can make your temperature data from both locations and months easier to compare by printing out a few useful values.\n",
    "\n",
    "- Use the `print()` function to show the mean, min and max Celsius temperatures for both places in May and June using the new subset dataframes (`kumpula_may`, `rovaniemi_may`, `kumpula_june`, and `rovaniemi_june`)."
   ]
  },
  {
   "cell_type": "code",
   "execution_count": 34,
   "id": "b6abba6e",
   "metadata": {},
   "outputs": [
    {
     "name": "stdout",
     "output_type": "stream",
     "text": [
      "The Mean, Min and Max for kumpula in May are 9.76, -2.22 & 22.78 respectively\n",
      "The Mean, Min and Max for rovaniemi in May are 2.99, -7.22 & 15.0 respectively\n",
      "The Mean, Min and Max for kumpula in June are 13.74, 2.78 & 23.89 respectively\n",
      "The Mean, Min and Max for rovaniemi in June are 11.02, -1.11 & 23.33 respectively\n"
     ]
    }
   ],
   "source": [
    "# Calculating mean, min and max for kumpula in May\n",
    "kumpula_may_mean = kumpula_may[\"Celsius\"].mean()\n",
    "kumpula_may_min = kumpula_may[\"Celsius\"].min()\n",
    "kumpula_may_max = kumpula_may[\"Celsius\"].max()\n",
    "\n",
    "# Calculating mean, min and max for rovaniemi in May\n",
    "rovaniemi_may_mean = rovaniemi_may[\"Celsius\"].mean()\n",
    "rovaniemi_may_min = rovaniemi_may[\"Celsius\"].min()\n",
    "rovaniemi_may_max = rovaniemi_may[\"Celsius\"].max()\n",
    "\n",
    "# Calculating mean, min and max for kumpula in June\n",
    "kumpula_june_mean = kumpula_june[\"Celsius\"].mean()\n",
    "kumpula_june_min = kumpula_june[\"Celsius\"].min()\n",
    "kumpula_june_max = kumpula_june[\"Celsius\"].max()\n",
    "\n",
    "# Calculating mean, min and max for rovaniemi in June\n",
    "rovaniemi_june_mean = rovaniemi_june[\"Celsius\"].mean()\n",
    "rovaniemi_june_min = rovaniemi_june[\"Celsius\"].min()\n",
    "rovaniemi_june_max = rovaniemi_june[\"Celsius\"].max()\n",
    "\n",
    "# Printing the results\n",
    "print(f'The Mean, Min and Max for kumpula in May are {kumpula_may_mean:.2f}, {kumpula_may_min} & {kumpula_may_max} respectively')\n",
    "print(f'The Mean, Min and Max for rovaniemi in May are {rovaniemi_may_mean:.2f}, {rovaniemi_may_min} & {rovaniemi_may_max} respectively')\n",
    "print(f'The Mean, Min and Max for kumpula in June are {kumpula_june_mean:.2f}, {kumpula_june_min} & {kumpula_june_max} respectively')\n",
    "print(f'The Mean, Min and Max for rovaniemi in June are {rovaniemi_june_mean:.2f}, {rovaniemi_june_min} & {rovaniemi_june_max} respectively')"
   ]
  },
  {
   "cell_type": "markdown",
   "id": "2dd24555",
   "metadata": {},
   "source": [
    "## Problem 4 (*optional*) - Parsing daily temperatures\n",
    "\n",
    "**This is an optional task for those who want more practice.**\n",
    "\n",
    "This problem is more challenging as we provide only minimal instructions for completing the given tasks. You will need to search through the pandas documentation (and other resources) for help. We will cover data aggregation in more detail during Lesson 6, so this is a good opportunity to get a head start for next week!\n",
    "\n",
    "In this problem, the aim is to aggregate the hourly temperature data for Helsinki Kumpula and Rovaniemi weather stations to the daily level. Currently, there are (at most) 3 measurements per hour in the data as you can see from the `YR--MODAHRMN` column (Year-Month-Day-Hour-Minute in Greenwich Mean Time (GMT):\n",
    "\n",
    "```\n",
    "    USAF  YR--MODAHRMN  TEMP  MAX  MIN  Celsius\n",
    "0  28450  201705010000  31.0  NaN  NaN       -1\n",
    "1  28450  201705010020  30.0  NaN  NaN       -1\n",
    "2  28450  201705010050  30.0  NaN  NaN       -1\n",
    "3  28450  201705010100  31.0  NaN  NaN       -1\n",
    "4  28450  201705010120  30.0  NaN  NaN       -1\n",
    "```\n",
    "\n",
    "The output should contain mean, max, and min Celsius temperatures for each day (for example, one mean temperature value for the 1st of May and so on).\n",
    "\n",
    "### What to do\n",
    "\n",
    "- Your task is to summarize the information for each day by aggregating (grouping) the DataFrame.\n",
    "- The output should be a new DataFrame where you have calculated the mean, max, and min Celsius temperatures for each day separately based on hourly values.\n",
    "- Repeat the task for the two data sets you created in Problem 2 (May-August temperatures from Rovaniemi and Kumpula).\n",
    "\n",
    "Don't forget to:\n",
    "\n",
    "- Include useful comments in your code\n",
    "- Push your solution to GitHub\n",
    "\n"
   ]
  },
  {
   "cell_type": "code",
   "execution_count": 61,
   "id": "b98d3f6c",
   "metadata": {},
   "outputs": [
    {
     "name": "stderr",
     "output_type": "stream",
     "text": [
      "C:\\Users\\Zarrin\\AppData\\Local\\Temp\\ipykernel_5080\\2181357668.py:2: SettingWithCopyWarning: \n",
      "A value is trying to be set on a copy of a slice from a DataFrame.\n",
      "Try using .loc[row_indexer,col_indexer] = value instead\n",
      "\n",
      "See the caveats in the documentation: https://pandas.pydata.org/pandas-docs/stable/user_guide/indexing.html#returning-a-view-versus-a-copy\n",
      "  kumpula_may[\"YR--MODAHRMN_STR\"] = kumpula_may[\"YR--MODAHRMN\"].astype(str)\n",
      "C:\\Users\\Zarrin\\AppData\\Local\\Temp\\ipykernel_5080\\2181357668.py:3: SettingWithCopyWarning: \n",
      "A value is trying to be set on a copy of a slice from a DataFrame.\n",
      "Try using .loc[row_indexer,col_indexer] = value instead\n",
      "\n",
      "See the caveats in the documentation: https://pandas.pydata.org/pandas-docs/stable/user_guide/indexing.html#returning-a-view-versus-a-copy\n",
      "  rovaniemi_may[\"YR--MODAHRMN_STR\"] = rovaniemi_may[\"YR--MODAHRMN\"].astype(str)\n",
      "C:\\Users\\Zarrin\\AppData\\Local\\Temp\\ipykernel_5080\\2181357668.py:4: SettingWithCopyWarning: \n",
      "A value is trying to be set on a copy of a slice from a DataFrame.\n",
      "Try using .loc[row_indexer,col_indexer] = value instead\n",
      "\n",
      "See the caveats in the documentation: https://pandas.pydata.org/pandas-docs/stable/user_guide/indexing.html#returning-a-view-versus-a-copy\n",
      "  kumpula_june[\"YR--MODAHRMN_STR\"] = kumpula_june[\"YR--MODAHRMN\"].astype(str)\n",
      "C:\\Users\\Zarrin\\AppData\\Local\\Temp\\ipykernel_5080\\2181357668.py:5: SettingWithCopyWarning: \n",
      "A value is trying to be set on a copy of a slice from a DataFrame.\n",
      "Try using .loc[row_indexer,col_indexer] = value instead\n",
      "\n",
      "See the caveats in the documentation: https://pandas.pydata.org/pandas-docs/stable/user_guide/indexing.html#returning-a-view-versus-a-copy\n",
      "  rovaniemi_june[\"YR--MODAHRMN_STR\"] = rovaniemi_june[\"YR--MODAHRMN\"].astype(str)\n",
      "C:\\Users\\Zarrin\\AppData\\Local\\Temp\\ipykernel_5080\\2181357668.py:8: SettingWithCopyWarning: \n",
      "A value is trying to be set on a copy of a slice from a DataFrame.\n",
      "Try using .loc[row_indexer,col_indexer] = value instead\n",
      "\n",
      "See the caveats in the documentation: https://pandas.pydata.org/pandas-docs/stable/user_guide/indexing.html#returning-a-view-versus-a-copy\n",
      "  kumpula_may[\"DAY\"] = kumpula_may[\"YR--MODAHRMN_STR\"].str.slice(start = 0, stop = 8)\n",
      "C:\\Users\\Zarrin\\AppData\\Local\\Temp\\ipykernel_5080\\2181357668.py:9: SettingWithCopyWarning: \n",
      "A value is trying to be set on a copy of a slice from a DataFrame.\n",
      "Try using .loc[row_indexer,col_indexer] = value instead\n",
      "\n",
      "See the caveats in the documentation: https://pandas.pydata.org/pandas-docs/stable/user_guide/indexing.html#returning-a-view-versus-a-copy\n",
      "  rovaniemi_may[\"DAY\"] = rovaniemi_may[\"YR--MODAHRMN_STR\"].str.slice(start = 0, stop = 8)\n",
      "C:\\Users\\Zarrin\\AppData\\Local\\Temp\\ipykernel_5080\\2181357668.py:10: SettingWithCopyWarning: \n",
      "A value is trying to be set on a copy of a slice from a DataFrame.\n",
      "Try using .loc[row_indexer,col_indexer] = value instead\n",
      "\n",
      "See the caveats in the documentation: https://pandas.pydata.org/pandas-docs/stable/user_guide/indexing.html#returning-a-view-versus-a-copy\n",
      "  kumpula_june[\"DAY\"] = kumpula_june[\"YR--MODAHRMN_STR\"].str.slice(start = 0, stop = 8)\n",
      "C:\\Users\\Zarrin\\AppData\\Local\\Temp\\ipykernel_5080\\2181357668.py:11: SettingWithCopyWarning: \n",
      "A value is trying to be set on a copy of a slice from a DataFrame.\n",
      "Try using .loc[row_indexer,col_indexer] = value instead\n",
      "\n",
      "See the caveats in the documentation: https://pandas.pydata.org/pandas-docs/stable/user_guide/indexing.html#returning-a-view-versus-a-copy\n",
      "  rovaniemi_june[\"DAY\"] = rovaniemi_june[\"YR--MODAHRMN_STR\"].str.slice(start = 0, stop = 8)\n"
     ]
    },
    {
     "data": {
      "text/html": [
       "<div>\n",
       "<style scoped>\n",
       "    .dataframe tbody tr th:only-of-type {\n",
       "        vertical-align: middle;\n",
       "    }\n",
       "\n",
       "    .dataframe tbody tr th {\n",
       "        vertical-align: top;\n",
       "    }\n",
       "\n",
       "    .dataframe thead th {\n",
       "        text-align: right;\n",
       "    }\n",
       "</style>\n",
       "<table border=\"1\" class=\"dataframe\">\n",
       "  <thead>\n",
       "    <tr style=\"text-align: right;\">\n",
       "      <th></th>\n",
       "      <th>MAX</th>\n",
       "      <th>MIN</th>\n",
       "      <th>Celsius</th>\n",
       "      <th>DAY</th>\n",
       "    </tr>\n",
       "  </thead>\n",
       "  <tbody>\n",
       "    <tr>\n",
       "      <th>0</th>\n",
       "      <td>43.0</td>\n",
       "      <td>32.0</td>\n",
       "      <td>2.175694</td>\n",
       "      <td>20170601</td>\n",
       "    </tr>\n",
       "    <tr>\n",
       "      <th>0</th>\n",
       "      <td>39.5</td>\n",
       "      <td>34.0</td>\n",
       "      <td>2.707917</td>\n",
       "      <td>20170602</td>\n",
       "    </tr>\n",
       "    <tr>\n",
       "      <th>0</th>\n",
       "      <td>40.5</td>\n",
       "      <td>35.0</td>\n",
       "      <td>3.479861</td>\n",
       "      <td>20170603</td>\n",
       "    </tr>\n",
       "    <tr>\n",
       "      <th>0</th>\n",
       "      <td>42.0</td>\n",
       "      <td>36.0</td>\n",
       "      <td>3.603333</td>\n",
       "      <td>20170604</td>\n",
       "    </tr>\n",
       "    <tr>\n",
       "      <th>0</th>\n",
       "      <td>47.5</td>\n",
       "      <td>37.0</td>\n",
       "      <td>7.23</td>\n",
       "      <td>20170605</td>\n",
       "    </tr>\n",
       "  </tbody>\n",
       "</table>\n",
       "</div>"
      ],
      "text/plain": [
       "    MAX   MIN   Celsius       DAY\n",
       "0  43.0  32.0  2.175694  20170601\n",
       "0  39.5  34.0  2.707917  20170602\n",
       "0  40.5  35.0  3.479861  20170603\n",
       "0  42.0  36.0  3.603333  20170604\n",
       "0  47.5  37.0      7.23  20170605"
      ]
     },
     "execution_count": 61,
     "metadata": {},
     "output_type": "execute_result"
    }
   ],
   "source": [
    "# Convert the column type to string in a new column\n",
    "kumpula_may[\"YR--MODAHRMN_STR\"] = kumpula_may[\"YR--MODAHRMN\"].astype(str)\n",
    "rovaniemi_may[\"YR--MODAHRMN_STR\"] = rovaniemi_may[\"YR--MODAHRMN\"].astype(str)\n",
    "kumpula_june[\"YR--MODAHRMN_STR\"] = kumpula_june[\"YR--MODAHRMN\"].astype(str)\n",
    "rovaniemi_june[\"YR--MODAHRMN_STR\"] = rovaniemi_june[\"YR--MODAHRMN\"].astype(str)\n",
    "\n",
    "# Creating a column and filling it with the daily date\n",
    "kumpula_may[\"DAY\"] = kumpula_may[\"YR--MODAHRMN_STR\"].str.slice(start = 0, stop = 8)\n",
    "rovaniemi_may[\"DAY\"] = rovaniemi_may[\"YR--MODAHRMN_STR\"].str.slice(start = 0, stop = 8)\n",
    "kumpula_june[\"DAY\"] = kumpula_june[\"YR--MODAHRMN_STR\"].str.slice(start = 0, stop = 8)\n",
    "rovaniemi_june[\"DAY\"] = rovaniemi_june[\"YR--MODAHRMN_STR\"].str.slice(start = 0, stop = 8)\n",
    "\n",
    "# Grouping dataframe based on YEAR-MONTH-DAY\n",
    "grouped_kumpula_may = kumpula_may.groupby(by = \"DAY\")\n",
    "grouped_rovaniemi_may = rovaniemi_may.groupby(by = \"DAY\")\n",
    "grouped_kumpula_june = kumpula_june.groupby(by = \"DAY\")\n",
    "grouped_rovaniemi_june = rovaniemi_june.groupby(by = \"DAY\")\n",
    "\n",
    "# Aggregating data by day\n",
    "daily_data_kumpula_may = pd.DataFrame()\n",
    "mean_cols = [\"MAX\", \"MIN\", \"Celsius\"]\n",
    "for key, group in grouped_kumpula_may:\n",
    "    mean_values = group[mean_cols].mean()\n",
    "    mean_values[\"DAY\"] = key\n",
    "    row = mean_values.to_frame().transpose()\n",
    "    daily_data_kumpula_may = pd.concat([daily_data_kumpula_may, row])\n",
    "\n",
    "daily_data_rovaniemi_may = pd.DataFrame()\n",
    "mean_cols = [\"MAX\", \"MIN\", \"Celsius\"]\n",
    "for key, group in grouped_rovaniemi_may:\n",
    "    mean_values = group[mean_cols].mean()\n",
    "    mean_values[\"DAY\"] = key\n",
    "    row = mean_values.to_frame().transpose()\n",
    "    daily_data_rovaniemi_may = pd.concat([daily_data_rovaniemi_may, row])\n",
    "\n",
    "daily_data_kumpula_june = pd.DataFrame()\n",
    "for key, group in grouped_kumpula_june:\n",
    "    mean_values = group[mean_cols].mean()\n",
    "    mean_values[\"DAY\"] = key\n",
    "    row = mean_values.to_frame().transpose()\n",
    "    daily_data_kumpula_june = pd.concat([daily_data_kumpula_june, row])\n",
    "\n",
    "daily_data_rovaniemi_june = pd.DataFrame()\n",
    "for key, group in grouped_rovaniemi_june:\n",
    "    mean_values = group[mean_cols].mean()\n",
    "    mean_values[\"DAY\"] = key\n",
    "    row = mean_values.to_frame().transpose()\n",
    "    daily_data_rovaniemi_june = pd.concat([daily_data_rovaniemi_june, row])"
   ]
  },
  {
   "cell_type": "code",
   "execution_count": 64,
   "id": "61f00a06-42b1-4c4c-a0c3-9fcede630670",
   "metadata": {},
   "outputs": [
    {
     "data": {
      "text/html": [
       "<div>\n",
       "<style scoped>\n",
       "    .dataframe tbody tr th:only-of-type {\n",
       "        vertical-align: middle;\n",
       "    }\n",
       "\n",
       "    .dataframe tbody tr th {\n",
       "        vertical-align: top;\n",
       "    }\n",
       "\n",
       "    .dataframe thead th {\n",
       "        text-align: right;\n",
       "    }\n",
       "</style>\n",
       "<table border=\"1\" class=\"dataframe\">\n",
       "  <thead>\n",
       "    <tr style=\"text-align: right;\">\n",
       "      <th></th>\n",
       "      <th>MAX</th>\n",
       "      <th>MIN</th>\n",
       "      <th>Celsius</th>\n",
       "      <th>DAY</th>\n",
       "    </tr>\n",
       "  </thead>\n",
       "  <tbody>\n",
       "    <tr>\n",
       "      <th>0</th>\n",
       "      <td>49.0</td>\n",
       "      <td>39.0</td>\n",
       "      <td>7.524167</td>\n",
       "      <td>20170501</td>\n",
       "    </tr>\n",
       "    <tr>\n",
       "      <th>0</th>\n",
       "      <td>55.5</td>\n",
       "      <td>41.5</td>\n",
       "      <td>9.699583</td>\n",
       "      <td>20170502</td>\n",
       "    </tr>\n",
       "    <tr>\n",
       "      <th>0</th>\n",
       "      <td>55.0</td>\n",
       "      <td>42.5</td>\n",
       "      <td>9.212917</td>\n",
       "      <td>20170503</td>\n",
       "    </tr>\n",
       "    <tr>\n",
       "      <th>0</th>\n",
       "      <td>51.5</td>\n",
       "      <td>40.5</td>\n",
       "      <td>6.78125</td>\n",
       "      <td>20170504</td>\n",
       "    </tr>\n",
       "    <tr>\n",
       "      <th>0</th>\n",
       "      <td>54.5</td>\n",
       "      <td>40.0</td>\n",
       "      <td>10.323333</td>\n",
       "      <td>20170505</td>\n",
       "    </tr>\n",
       "  </tbody>\n",
       "</table>\n",
       "</div>"
      ],
      "text/plain": [
       "    MAX   MIN    Celsius       DAY\n",
       "0  49.0  39.0   7.524167  20170501\n",
       "0  55.5  41.5   9.699583  20170502\n",
       "0  55.0  42.5   9.212917  20170503\n",
       "0  51.5  40.5    6.78125  20170504\n",
       "0  54.5  40.0  10.323333  20170505"
      ]
     },
     "execution_count": 64,
     "metadata": {},
     "output_type": "execute_result"
    }
   ],
   "source": [
    "# Printing the DataFrames daily average of kumpula in may\n",
    "daily_data_kumpula_may.head()"
   ]
  },
  {
   "cell_type": "code",
   "execution_count": 65,
   "id": "7901f30d-7b9d-4dd4-926b-b50ff835d024",
   "metadata": {},
   "outputs": [
    {
     "data": {
      "text/html": [
       "<div>\n",
       "<style scoped>\n",
       "    .dataframe tbody tr th:only-of-type {\n",
       "        vertical-align: middle;\n",
       "    }\n",
       "\n",
       "    .dataframe tbody tr th {\n",
       "        vertical-align: top;\n",
       "    }\n",
       "\n",
       "    .dataframe thead th {\n",
       "        text-align: right;\n",
       "    }\n",
       "</style>\n",
       "<table border=\"1\" class=\"dataframe\">\n",
       "  <thead>\n",
       "    <tr style=\"text-align: right;\">\n",
       "      <th></th>\n",
       "      <th>MAX</th>\n",
       "      <th>MIN</th>\n",
       "      <th>Celsius</th>\n",
       "      <th>DAY</th>\n",
       "    </tr>\n",
       "  </thead>\n",
       "  <tbody>\n",
       "    <tr>\n",
       "      <th>0</th>\n",
       "      <td>39.0</td>\n",
       "      <td>30.5</td>\n",
       "      <td>2.198889</td>\n",
       "      <td>20170501</td>\n",
       "    </tr>\n",
       "    <tr>\n",
       "      <th>0</th>\n",
       "      <td>43.5</td>\n",
       "      <td>35.5</td>\n",
       "      <td>3.433333</td>\n",
       "      <td>20170502</td>\n",
       "    </tr>\n",
       "    <tr>\n",
       "      <th>0</th>\n",
       "      <td>38.0</td>\n",
       "      <td>35.0</td>\n",
       "      <td>2.10493</td>\n",
       "      <td>20170503</td>\n",
       "    </tr>\n",
       "    <tr>\n",
       "      <th>0</th>\n",
       "      <td>42.5</td>\n",
       "      <td>32.5</td>\n",
       "      <td>4.390417</td>\n",
       "      <td>20170504</td>\n",
       "    </tr>\n",
       "    <tr>\n",
       "      <th>0</th>\n",
       "      <td>51.0</td>\n",
       "      <td>40.0</td>\n",
       "      <td>6.905972</td>\n",
       "      <td>20170505</td>\n",
       "    </tr>\n",
       "  </tbody>\n",
       "</table>\n",
       "</div>"
      ],
      "text/plain": [
       "    MAX   MIN   Celsius       DAY\n",
       "0  39.0  30.5  2.198889  20170501\n",
       "0  43.5  35.5  3.433333  20170502\n",
       "0  38.0  35.0   2.10493  20170503\n",
       "0  42.5  32.5  4.390417  20170504\n",
       "0  51.0  40.0  6.905972  20170505"
      ]
     },
     "execution_count": 65,
     "metadata": {},
     "output_type": "execute_result"
    }
   ],
   "source": [
    "# Printing the DataFrames daily average of rovaniemi in may\n",
    "daily_data_rovaniemi_may.head()"
   ]
  },
  {
   "cell_type": "code",
   "execution_count": 66,
   "id": "332da654-a83f-4e0c-b382-88d00a09cf9c",
   "metadata": {},
   "outputs": [
    {
     "data": {
      "text/html": [
       "<div>\n",
       "<style scoped>\n",
       "    .dataframe tbody tr th:only-of-type {\n",
       "        vertical-align: middle;\n",
       "    }\n",
       "\n",
       "    .dataframe tbody tr th {\n",
       "        vertical-align: top;\n",
       "    }\n",
       "\n",
       "    .dataframe thead th {\n",
       "        text-align: right;\n",
       "    }\n",
       "</style>\n",
       "<table border=\"1\" class=\"dataframe\">\n",
       "  <thead>\n",
       "    <tr style=\"text-align: right;\">\n",
       "      <th></th>\n",
       "      <th>MAX</th>\n",
       "      <th>MIN</th>\n",
       "      <th>Celsius</th>\n",
       "      <th>DAY</th>\n",
       "    </tr>\n",
       "  </thead>\n",
       "  <tbody>\n",
       "    <tr>\n",
       "      <th>0</th>\n",
       "      <td>52.5</td>\n",
       "      <td>41.0</td>\n",
       "      <td>6.55125</td>\n",
       "      <td>20170601</td>\n",
       "    </tr>\n",
       "    <tr>\n",
       "      <th>0</th>\n",
       "      <td>46.5</td>\n",
       "      <td>39.5</td>\n",
       "      <td>6.24875</td>\n",
       "      <td>20170602</td>\n",
       "    </tr>\n",
       "    <tr>\n",
       "      <th>0</th>\n",
       "      <td>54.5</td>\n",
       "      <td>42.5</td>\n",
       "      <td>10.162083</td>\n",
       "      <td>20170603</td>\n",
       "    </tr>\n",
       "    <tr>\n",
       "      <th>0</th>\n",
       "      <td>59.0</td>\n",
       "      <td>44.0</td>\n",
       "      <td>9.999167</td>\n",
       "      <td>20170604</td>\n",
       "    </tr>\n",
       "    <tr>\n",
       "      <th>0</th>\n",
       "      <td>53.0</td>\n",
       "      <td>48.5</td>\n",
       "      <td>10.278333</td>\n",
       "      <td>20170605</td>\n",
       "    </tr>\n",
       "  </tbody>\n",
       "</table>\n",
       "</div>"
      ],
      "text/plain": [
       "    MAX   MIN    Celsius       DAY\n",
       "0  52.5  41.0    6.55125  20170601\n",
       "0  46.5  39.5    6.24875  20170602\n",
       "0  54.5  42.5  10.162083  20170603\n",
       "0  59.0  44.0   9.999167  20170604\n",
       "0  53.0  48.5  10.278333  20170605"
      ]
     },
     "execution_count": 66,
     "metadata": {},
     "output_type": "execute_result"
    }
   ],
   "source": [
    "# Printing the DataFrames daily average of kumpula in june\n",
    "daily_data_kumpula_june.head()"
   ]
  },
  {
   "cell_type": "code",
   "execution_count": 67,
   "id": "b9fa992f-9c6a-462f-9195-50091af52089",
   "metadata": {},
   "outputs": [
    {
     "data": {
      "text/html": [
       "<div>\n",
       "<style scoped>\n",
       "    .dataframe tbody tr th:only-of-type {\n",
       "        vertical-align: middle;\n",
       "    }\n",
       "\n",
       "    .dataframe tbody tr th {\n",
       "        vertical-align: top;\n",
       "    }\n",
       "\n",
       "    .dataframe thead th {\n",
       "        text-align: right;\n",
       "    }\n",
       "</style>\n",
       "<table border=\"1\" class=\"dataframe\">\n",
       "  <thead>\n",
       "    <tr style=\"text-align: right;\">\n",
       "      <th></th>\n",
       "      <th>MAX</th>\n",
       "      <th>MIN</th>\n",
       "      <th>Celsius</th>\n",
       "      <th>DAY</th>\n",
       "    </tr>\n",
       "  </thead>\n",
       "  <tbody>\n",
       "    <tr>\n",
       "      <th>0</th>\n",
       "      <td>43.0</td>\n",
       "      <td>32.0</td>\n",
       "      <td>2.175694</td>\n",
       "      <td>20170601</td>\n",
       "    </tr>\n",
       "    <tr>\n",
       "      <th>0</th>\n",
       "      <td>39.5</td>\n",
       "      <td>34.0</td>\n",
       "      <td>2.707917</td>\n",
       "      <td>20170602</td>\n",
       "    </tr>\n",
       "    <tr>\n",
       "      <th>0</th>\n",
       "      <td>40.5</td>\n",
       "      <td>35.0</td>\n",
       "      <td>3.479861</td>\n",
       "      <td>20170603</td>\n",
       "    </tr>\n",
       "    <tr>\n",
       "      <th>0</th>\n",
       "      <td>42.0</td>\n",
       "      <td>36.0</td>\n",
       "      <td>3.603333</td>\n",
       "      <td>20170604</td>\n",
       "    </tr>\n",
       "    <tr>\n",
       "      <th>0</th>\n",
       "      <td>47.5</td>\n",
       "      <td>37.0</td>\n",
       "      <td>7.23</td>\n",
       "      <td>20170605</td>\n",
       "    </tr>\n",
       "  </tbody>\n",
       "</table>\n",
       "</div>"
      ],
      "text/plain": [
       "    MAX   MIN   Celsius       DAY\n",
       "0  43.0  32.0  2.175694  20170601\n",
       "0  39.5  34.0  2.707917  20170602\n",
       "0  40.5  35.0  3.479861  20170603\n",
       "0  42.0  36.0  3.603333  20170604\n",
       "0  47.5  37.0      7.23  20170605"
      ]
     },
     "execution_count": 67,
     "metadata": {},
     "output_type": "execute_result"
    }
   ],
   "source": [
    "# Printing the DataFrames daily average of rovaniemi in june\n",
    "daily_data_rovaniemi_june.head()"
   ]
  },
  {
   "cell_type": "markdown",
   "id": "187ec47c-4a2d-488f-982f-12424ca08070",
   "metadata": {},
   "source": [
    "# Done!"
   ]
  }
 ],
 "metadata": {
  "kernelspec": {
   "display_name": "Python 3 (ipykernel)",
   "language": "python",
   "name": "python3"
  },
  "language_info": {
   "codemirror_mode": {
    "name": "ipython",
    "version": 3
   },
   "file_extension": ".py",
   "mimetype": "text/x-python",
   "name": "python",
   "nbconvert_exporter": "python",
   "pygments_lexer": "ipython3",
   "version": "3.11.7"
  },
  "latex_envs": {
   "LaTeX_envs_menu_present": true,
   "autoclose": false,
   "autocomplete": true,
   "bibliofile": "biblio.bib",
   "cite_by": "apalike",
   "current_citInitial": 1,
   "eqLabelWithNumbers": true,
   "eqNumInitial": 1,
   "hotkeys": {
    "equation": "Ctrl-E",
    "itemize": "Ctrl-I"
   },
   "labels_anchors": false,
   "latex_user_defs": false,
   "report_style_numbering": false,
   "user_envs_cfg": false
  }
 },
 "nbformat": 4,
 "nbformat_minor": 5
}
